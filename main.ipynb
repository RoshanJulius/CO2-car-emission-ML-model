{
 "cells": [
  {
   "cell_type": "code",
   "execution_count": 1,
   "metadata": {},
   "outputs": [],
   "source": [
    "import pandas as pd\n",
    "import numpy as np"
   ]
  },
  {
   "cell_type": "code",
   "execution_count": 5,
   "metadata": {},
   "outputs": [
    {
     "name": "stdout",
     "output_type": "stream",
     "text": [
      "    Make       Model Vehicle Class  Engine Size(L)  Cylinders Transmission  \\\n",
      "0  ACURA         ILX       COMPACT             2.0          4          AS5   \n",
      "1  ACURA         ILX       COMPACT             2.4          4           M6   \n",
      "2  ACURA  ILX HYBRID       COMPACT             1.5          4          AV7   \n",
      "3  ACURA     MDX 4WD   SUV - SMALL             3.5          6          AS6   \n",
      "4  ACURA     RDX AWD   SUV - SMALL             3.5          6          AS6   \n",
      "\n",
      "  Fuel Type  Fuel Consumption City (L/100 km)  \\\n",
      "0         Z                               9.9   \n",
      "1         Z                              11.2   \n",
      "2         Z                               6.0   \n",
      "3         Z                              12.7   \n",
      "4         Z                              12.1   \n",
      "\n",
      "   Fuel Consumption Hwy (L/100 km)  Fuel Consumption Comb (L/100 km)  \\\n",
      "0                              6.7                               8.5   \n",
      "1                              7.7                               9.6   \n",
      "2                              5.8                               5.9   \n",
      "3                              9.1                              11.1   \n",
      "4                              8.7                              10.6   \n",
      "\n",
      "   Fuel Consumption Comb (mpg)  CO2 Emissions(g/km)  \n",
      "0                           33                  196  \n",
      "1                           29                  221  \n",
      "2                           48                  136  \n",
      "3                           25                  255  \n",
      "4                           27                  244  \n"
     ]
    }
   ],
   "source": [
    "data = pd.read_csv(\"E:\\CS\\Machine Learning\\Projects\\CO2-car-emission-ML-model\\CO2_emissions.csv\")\n",
    "print(data.head())\n",
    "null_values = data.isnull().sum()"
   ]
  },
  {
   "cell_type": "code",
   "execution_count": 6,
   "metadata": {},
   "outputs": [
    {
     "name": "stdout",
     "output_type": "stream",
     "text": [
      "Make                                0\n",
      "Model                               0\n",
      "Vehicle Class                       0\n",
      "Engine Size(L)                      0\n",
      "Cylinders                           0\n",
      "Transmission                        0\n",
      "Fuel Type                           0\n",
      "Fuel Consumption City (L/100 km)    0\n",
      "Fuel Consumption Hwy (L/100 km)     0\n",
      "Fuel Consumption Comb (L/100 km)    0\n",
      "Fuel Consumption Comb (mpg)         0\n",
      "CO2 Emissions(g/km)                 0\n",
      "dtype: int64\n"
     ]
    }
   ],
   "source": [
    "print(null_values)\n"
   ]
  },
  {
   "cell_type": "code",
   "execution_count": 9,
   "metadata": {},
   "outputs": [
    {
     "name": "stdout",
     "output_type": "stream",
     "text": [
      "                                  Engine Size(L)  Cylinders  \\\n",
      "Engine Size(L)                          1.000000   0.927653   \n",
      "Cylinders                               0.927653   1.000000   \n",
      "Fuel Consumption City (L/100 km)        0.831379   0.800702   \n",
      "Fuel Consumption Hwy (L/100 km)         0.761526   0.715252   \n",
      "Fuel Consumption Comb (L/100 km)        0.817060   0.780534   \n",
      "Fuel Consumption Comb (mpg)            -0.757854  -0.719321   \n",
      "CO2 Emissions(g/km)                     0.851145   0.832644   \n",
      "\n",
      "                                  Fuel Consumption City (L/100 km)  \\\n",
      "Engine Size(L)                                            0.831379   \n",
      "Cylinders                                                 0.800702   \n",
      "Fuel Consumption City (L/100 km)                          1.000000   \n",
      "Fuel Consumption Hwy (L/100 km)                           0.948180   \n",
      "Fuel Consumption Comb (L/100 km)                          0.993810   \n",
      "Fuel Consumption Comb (mpg)                              -0.927059   \n",
      "CO2 Emissions(g/km)                                       0.919592   \n",
      "\n",
      "                                  Fuel Consumption Hwy (L/100 km)  \\\n",
      "Engine Size(L)                                           0.761526   \n",
      "Cylinders                                                0.715252   \n",
      "Fuel Consumption City (L/100 km)                         0.948180   \n",
      "Fuel Consumption Hwy (L/100 km)                          1.000000   \n",
      "Fuel Consumption Comb (L/100 km)                         0.977299   \n",
      "Fuel Consumption Comb (mpg)                             -0.890638   \n",
      "CO2 Emissions(g/km)                                      0.883536   \n",
      "\n",
      "                                  Fuel Consumption Comb (L/100 km)  \\\n",
      "Engine Size(L)                                            0.817060   \n",
      "Cylinders                                                 0.780534   \n",
      "Fuel Consumption City (L/100 km)                          0.993810   \n",
      "Fuel Consumption Hwy (L/100 km)                           0.977299   \n",
      "Fuel Consumption Comb (L/100 km)                          1.000000   \n",
      "Fuel Consumption Comb (mpg)                              -0.925576   \n",
      "CO2 Emissions(g/km)                                       0.918052   \n",
      "\n",
      "                                  Fuel Consumption Comb (mpg)  \\\n",
      "Engine Size(L)                                      -0.757854   \n",
      "Cylinders                                           -0.719321   \n",
      "Fuel Consumption City (L/100 km)                    -0.927059   \n",
      "Fuel Consumption Hwy (L/100 km)                     -0.890638   \n",
      "Fuel Consumption Comb (L/100 km)                    -0.925576   \n",
      "Fuel Consumption Comb (mpg)                          1.000000   \n",
      "CO2 Emissions(g/km)                                 -0.907426   \n",
      "\n",
      "                                  CO2 Emissions(g/km)  \n",
      "Engine Size(L)                               0.851145  \n",
      "Cylinders                                    0.832644  \n",
      "Fuel Consumption City (L/100 km)             0.919592  \n",
      "Fuel Consumption Hwy (L/100 km)              0.883536  \n",
      "Fuel Consumption Comb (L/100 km)             0.918052  \n",
      "Fuel Consumption Comb (mpg)                 -0.907426  \n",
      "CO2 Emissions(g/km)                          1.000000  \n"
     ]
    }
   ],
   "source": [
    "corr_matrix = data.corr()\n",
    "print(corr_matrix)"
   ]
  },
  {
   "cell_type": "code",
   "execution_count": null,
   "metadata": {},
   "outputs": [],
   "source": []
  }
 ],
 "metadata": {
  "kernelspec": {
   "display_name": "Python 3.9.0 64-bit",
   "language": "python",
   "name": "python3"
  },
  "language_info": {
   "codemirror_mode": {
    "name": "ipython",
    "version": 3
   },
   "file_extension": ".py",
   "mimetype": "text/x-python",
   "name": "python",
   "nbconvert_exporter": "python",
   "pygments_lexer": "ipython3",
   "version": "3.9.0"
  },
  "orig_nbformat": 4,
  "vscode": {
   "interpreter": {
    "hash": "f6246b25e200e4c5124e3e61789ac81350562f0761bbcf92ad9e48654207659c"
   }
  }
 },
 "nbformat": 4,
 "nbformat_minor": 2
}
